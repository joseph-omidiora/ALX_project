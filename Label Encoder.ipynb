{
 "cells": [
  {
   "cell_type": "markdown",
   "id": "19b5cf89",
   "metadata": {},
   "source": [
    "# Encoding Categorical Data\n",
    "\n",
    "The purpose of this notebook is to show you two methods to encode data. For examle to encode a yes/no pandas series to a 0/1 equivalent."
   ]
  },
  {
   "cell_type": "markdown",
   "id": "e962e091",
   "metadata": {},
   "source": [
    "### Getting Our DataFrame Ready\n",
    "\n",
    "I will use a simple dataframe for demonstration. Please, note that I dont have a csv file ready, I'll create one here."
   ]
  },
  {
   "cell_type": "markdown",
   "id": "190ae29b",
   "metadata": {},
   "source": [
    "## Libraries Import"
   ]
  },
  {
   "cell_type": "code",
   "execution_count": 85,
   "id": "a3bff61a",
   "metadata": {},
   "outputs": [],
   "source": [
    "import pandas as pd\n",
    "from io import StringIO"
   ]
  },
  {
   "cell_type": "code",
   "execution_count": 86,
   "id": "189bc6cc",
   "metadata": {},
   "outputs": [],
   "source": [
    "data = '''\n",
    "color,size,price,discount,commission,label\n",
    "yellow,XL,10.5,2.0,3.1,yes\n",
    "brown,L,8.1,1.6,1.2,no\n",
    "blue,M,5.2,0.8,1.3,no\n",
    "green,S,3.5,0.4,0.8,yes\n",
    "pale,M,,2.0,3.1,no\n",
    "brown,L,8.1,1.6,,no\n",
    "blue,M,5.2,0.8,1.3,yes\n",
    "white,XL,3.5,,0.8,yes\n",
    "white,,8.5,2.0,3.1,yes\n",
    "blue,S,,1.6,1.2,no\n",
    "blue,XL,15.2,2.8,1.3,yes\n",
    "pale,,6.8,,0.8,no\n",
    "blue,,,2.0,3.1,yes\n",
    ",L,8.1,1.6,1.2,yes\n",
    "blue,M,5.2,0.8,1.3,no\n",
    ",S,3.5,0.4,0.8,no\n",
    "yellow,XL,10.5,2.0,3.1,no\n",
    "brown,L,8.1,1.6,1.2,yes\n",
    "blue,M,5.2,,1.3,yes\n",
    "green,S,3.5,0.4,,no\n",
    "'''"
   ]
  },
  {
   "cell_type": "markdown",
   "id": "cf9be2c6",
   "metadata": {},
   "source": [
    "The data above is simply a CSV text input not a CSV file. I will use the imported library StringIO to convert it to CSV here. All these steps are not important to the lesson at hand. I don't want you to be wondering if someone needs StringIO class to encode categorical data to numerical data that is why I'm adding these explanations. If we had an already made CSV file, all these steps wouldn't be necessary."
   ]
  },
  {
   "cell_type": "code",
   "execution_count": 87,
   "id": "62c77577",
   "metadata": {},
   "outputs": [
    {
     "data": {
      "text/html": [
       "<div>\n",
       "<style scoped>\n",
       "    .dataframe tbody tr th:only-of-type {\n",
       "        vertical-align: middle;\n",
       "    }\n",
       "\n",
       "    .dataframe tbody tr th {\n",
       "        vertical-align: top;\n",
       "    }\n",
       "\n",
       "    .dataframe thead th {\n",
       "        text-align: right;\n",
       "    }\n",
       "</style>\n",
       "<table border=\"1\" class=\"dataframe\">\n",
       "  <thead>\n",
       "    <tr style=\"text-align: right;\">\n",
       "      <th></th>\n",
       "      <th>color</th>\n",
       "      <th>size</th>\n",
       "      <th>price</th>\n",
       "      <th>discount</th>\n",
       "      <th>commission</th>\n",
       "      <th>label</th>\n",
       "    </tr>\n",
       "  </thead>\n",
       "  <tbody>\n",
       "    <tr>\n",
       "      <th>0</th>\n",
       "      <td>yellow</td>\n",
       "      <td>XL</td>\n",
       "      <td>10.5</td>\n",
       "      <td>2.0</td>\n",
       "      <td>3.1</td>\n",
       "      <td>yes</td>\n",
       "    </tr>\n",
       "    <tr>\n",
       "      <th>1</th>\n",
       "      <td>brown</td>\n",
       "      <td>L</td>\n",
       "      <td>8.1</td>\n",
       "      <td>1.6</td>\n",
       "      <td>1.2</td>\n",
       "      <td>no</td>\n",
       "    </tr>\n",
       "    <tr>\n",
       "      <th>2</th>\n",
       "      <td>blue</td>\n",
       "      <td>M</td>\n",
       "      <td>5.2</td>\n",
       "      <td>0.8</td>\n",
       "      <td>1.3</td>\n",
       "      <td>no</td>\n",
       "    </tr>\n",
       "    <tr>\n",
       "      <th>3</th>\n",
       "      <td>green</td>\n",
       "      <td>S</td>\n",
       "      <td>3.5</td>\n",
       "      <td>0.4</td>\n",
       "      <td>0.8</td>\n",
       "      <td>yes</td>\n",
       "    </tr>\n",
       "    <tr>\n",
       "      <th>4</th>\n",
       "      <td>pale</td>\n",
       "      <td>M</td>\n",
       "      <td>NaN</td>\n",
       "      <td>2.0</td>\n",
       "      <td>3.1</td>\n",
       "      <td>no</td>\n",
       "    </tr>\n",
       "  </tbody>\n",
       "</table>\n",
       "</div>"
      ],
      "text/plain": [
       "    color size  price  discount  commission label\n",
       "0  yellow   XL   10.5       2.0         3.1   yes\n",
       "1   brown    L    8.1       1.6         1.2    no\n",
       "2    blue    M    5.2       0.8         1.3    no\n",
       "3   green    S    3.5       0.4         0.8   yes\n",
       "4    pale    M    NaN       2.0         3.1    no"
      ]
     },
     "execution_count": 87,
     "metadata": {},
     "output_type": "execute_result"
    }
   ],
   "source": [
    "# Converting the csv text input to a csv file. The result is a pandas dataframe\n",
    "dataset = pd.read_csv(StringIO(data))\n",
    "dataset2 = pd.read_csv(StringIO(data)) # I need two dataframes for the two examples\n",
    "dataset.head()"
   ]
  },
  {
   "cell_type": "code",
   "execution_count": 88,
   "id": "e7e4cb23",
   "metadata": {},
   "outputs": [
    {
     "data": {
      "text/plain": [
       "yes    10\n",
       "no     10\n",
       "Name: label, dtype: int64"
      ]
     },
     "execution_count": 88,
     "metadata": {},
     "output_type": "execute_result"
    }
   ],
   "source": [
    "# Let us view the unique values in the label. Note that the label is our target in this case. Having values yes/no\n",
    "dataset['label'].value_counts()"
   ]
  },
  {
   "cell_type": "markdown",
   "id": "45a7d7ae",
   "metadata": {},
   "source": [
    "As you can see, we now have a pandas dataframe from the text file. The dataset has 10 labels for yes and 10 labels for no"
   ]
  },
  {
   "cell_type": "markdown",
   "id": "7b32bcb9",
   "metadata": {},
   "source": [
    "# First Method - Mapping\n",
    "\n",
    "This first method is probably the one you want to use all the time because it's a purely Pandas method. We call it mapping.\n",
    "\n",
    "Let me explain how it works:\n",
    ">1. We create a dictionary object which convert objects from the dataframe to what we want. In this case, the dictionary will convert yes to 1 and no to zero. Dictionaries are data structures that have key/value pairs. In our case, yes & no will be keys while 0 and 1 will be values\n",
    ">2. We will map the dataframe series that we want to convert to the dictionary object.\n",
    ">Let's see how that works"
   ]
  },
  {
   "cell_type": "code",
   "execution_count": 89,
   "id": "93dae37b",
   "metadata": {},
   "outputs": [],
   "source": [
    "# Create a dictionary to map the objects\n",
    "label_map = {'yes':1, 'no':0}"
   ]
  },
  {
   "cell_type": "code",
   "execution_count": 90,
   "id": "ab8117df",
   "metadata": {},
   "outputs": [
    {
     "data": {
      "text/html": [
       "<div>\n",
       "<style scoped>\n",
       "    .dataframe tbody tr th:only-of-type {\n",
       "        vertical-align: middle;\n",
       "    }\n",
       "\n",
       "    .dataframe tbody tr th {\n",
       "        vertical-align: top;\n",
       "    }\n",
       "\n",
       "    .dataframe thead th {\n",
       "        text-align: right;\n",
       "    }\n",
       "</style>\n",
       "<table border=\"1\" class=\"dataframe\">\n",
       "  <thead>\n",
       "    <tr style=\"text-align: right;\">\n",
       "      <th></th>\n",
       "      <th>color</th>\n",
       "      <th>size</th>\n",
       "      <th>price</th>\n",
       "      <th>discount</th>\n",
       "      <th>commission</th>\n",
       "      <th>label</th>\n",
       "    </tr>\n",
       "  </thead>\n",
       "  <tbody>\n",
       "    <tr>\n",
       "      <th>0</th>\n",
       "      <td>yellow</td>\n",
       "      <td>XL</td>\n",
       "      <td>10.5</td>\n",
       "      <td>2.0</td>\n",
       "      <td>3.1</td>\n",
       "      <td>1</td>\n",
       "    </tr>\n",
       "    <tr>\n",
       "      <th>1</th>\n",
       "      <td>brown</td>\n",
       "      <td>L</td>\n",
       "      <td>8.1</td>\n",
       "      <td>1.6</td>\n",
       "      <td>1.2</td>\n",
       "      <td>0</td>\n",
       "    </tr>\n",
       "    <tr>\n",
       "      <th>2</th>\n",
       "      <td>blue</td>\n",
       "      <td>M</td>\n",
       "      <td>5.2</td>\n",
       "      <td>0.8</td>\n",
       "      <td>1.3</td>\n",
       "      <td>0</td>\n",
       "    </tr>\n",
       "    <tr>\n",
       "      <th>3</th>\n",
       "      <td>green</td>\n",
       "      <td>S</td>\n",
       "      <td>3.5</td>\n",
       "      <td>0.4</td>\n",
       "      <td>0.8</td>\n",
       "      <td>1</td>\n",
       "    </tr>\n",
       "    <tr>\n",
       "      <th>4</th>\n",
       "      <td>pale</td>\n",
       "      <td>M</td>\n",
       "      <td>NaN</td>\n",
       "      <td>2.0</td>\n",
       "      <td>3.1</td>\n",
       "      <td>0</td>\n",
       "    </tr>\n",
       "  </tbody>\n",
       "</table>\n",
       "</div>"
      ],
      "text/plain": [
       "    color size  price  discount  commission  label\n",
       "0  yellow   XL   10.5       2.0         3.1      1\n",
       "1   brown    L    8.1       1.6         1.2      0\n",
       "2    blue    M    5.2       0.8         1.3      0\n",
       "3   green    S    3.5       0.4         0.8      1\n",
       "4    pale    M    NaN       2.0         3.1      0"
      ]
     },
     "execution_count": 90,
     "metadata": {},
     "output_type": "execute_result"
    }
   ],
   "source": [
    "# Map the dictionary to the series [the part of the dataframe that you want to encode]\n",
    "dataset['label'] = dataset['label'].map(label_map)\n",
    "\n",
    "# Print a part of the dataframe to see the result\n",
    "dataset.head()"
   ]
  },
  {
   "cell_type": "code",
   "execution_count": 91,
   "id": "0e681b0d",
   "metadata": {},
   "outputs": [
    {
     "data": {
      "text/plain": [
       "1    10\n",
       "0    10\n",
       "Name: label, dtype: int64"
      ]
     },
     "execution_count": 91,
     "metadata": {},
     "output_type": "execute_result"
    }
   ],
   "source": [
    "dataset['label'].value_counts()"
   ]
  },
  {
   "cell_type": "markdown",
   "id": "13d80b53",
   "metadata": {},
   "source": [
    "!BAM it works just fine. Let us move on to the next example."
   ]
  },
  {
   "cell_type": "markdown",
   "id": "f6eb29a6",
   "metadata": {},
   "source": [
    "## Inverse Transformation\n",
    "\n",
    "Now that you have successfully encoded your classes, what happens if you need to decode the label. In order words, how do you have the dataframe as you had it before? This is important, especially in Machine Learning if after you have a prediction say 1 and you need to know which label corresponds to 1?\n",
    "\n",
    "What you do is to reverse the process above. create an inverse dictionary and map it again to the dataframe.\n",
    "Let us copy the dataframe into a new object to demonstrate this process"
   ]
  },
  {
   "cell_type": "code",
   "execution_count": 92,
   "id": "ab85e301",
   "metadata": {},
   "outputs": [
    {
     "data": {
      "text/plain": [
       "{1: 'yes', 0: 'no'}"
      ]
     },
     "execution_count": 92,
     "metadata": {},
     "output_type": "execute_result"
    }
   ],
   "source": [
    "# Create an inverse dictionary from the original label_map dictionary above\n",
    "# what we do here essentially is to reverse the label map.\n",
    "inv_label_map = {v:k for k, v in label_map.items()} # Did you notice how we swapped v and k inside the dictionary comprehension?\n",
    "inv_label_map"
   ]
  },
  {
   "cell_type": "markdown",
   "id": "2c1d443d",
   "metadata": {},
   "source": [
    "Look at the result above. We have reversed the dictionary. Now, let's map it to the dataframe\n",
    "Note: I copied the dataframe into a new object to preserve the original dataset"
   ]
  },
  {
   "cell_type": "code",
   "execution_count": 93,
   "id": "7fdbd0b8",
   "metadata": {},
   "outputs": [
    {
     "data": {
      "text/html": [
       "<div>\n",
       "<style scoped>\n",
       "    .dataframe tbody tr th:only-of-type {\n",
       "        vertical-align: middle;\n",
       "    }\n",
       "\n",
       "    .dataframe tbody tr th {\n",
       "        vertical-align: top;\n",
       "    }\n",
       "\n",
       "    .dataframe thead th {\n",
       "        text-align: right;\n",
       "    }\n",
       "</style>\n",
       "<table border=\"1\" class=\"dataframe\">\n",
       "  <thead>\n",
       "    <tr style=\"text-align: right;\">\n",
       "      <th></th>\n",
       "      <th>color</th>\n",
       "      <th>size</th>\n",
       "      <th>price</th>\n",
       "      <th>discount</th>\n",
       "      <th>commission</th>\n",
       "      <th>label</th>\n",
       "    </tr>\n",
       "  </thead>\n",
       "  <tbody>\n",
       "    <tr>\n",
       "      <th>0</th>\n",
       "      <td>yellow</td>\n",
       "      <td>XL</td>\n",
       "      <td>10.5</td>\n",
       "      <td>2.0</td>\n",
       "      <td>3.1</td>\n",
       "      <td>1</td>\n",
       "    </tr>\n",
       "    <tr>\n",
       "      <th>1</th>\n",
       "      <td>brown</td>\n",
       "      <td>L</td>\n",
       "      <td>8.1</td>\n",
       "      <td>1.6</td>\n",
       "      <td>1.2</td>\n",
       "      <td>0</td>\n",
       "    </tr>\n",
       "    <tr>\n",
       "      <th>2</th>\n",
       "      <td>blue</td>\n",
       "      <td>M</td>\n",
       "      <td>5.2</td>\n",
       "      <td>0.8</td>\n",
       "      <td>1.3</td>\n",
       "      <td>0</td>\n",
       "    </tr>\n",
       "    <tr>\n",
       "      <th>3</th>\n",
       "      <td>green</td>\n",
       "      <td>S</td>\n",
       "      <td>3.5</td>\n",
       "      <td>0.4</td>\n",
       "      <td>0.8</td>\n",
       "      <td>1</td>\n",
       "    </tr>\n",
       "    <tr>\n",
       "      <th>4</th>\n",
       "      <td>pale</td>\n",
       "      <td>M</td>\n",
       "      <td>NaN</td>\n",
       "      <td>2.0</td>\n",
       "      <td>3.1</td>\n",
       "      <td>0</td>\n",
       "    </tr>\n",
       "  </tbody>\n",
       "</table>\n",
       "</div>"
      ],
      "text/plain": [
       "    color size  price  discount  commission  label\n",
       "0  yellow   XL   10.5       2.0         3.1      1\n",
       "1   brown    L    8.1       1.6         1.2      0\n",
       "2    blue    M    5.2       0.8         1.3      0\n",
       "3   green    S    3.5       0.4         0.8      1\n",
       "4    pale    M    NaN       2.0         3.1      0"
      ]
     },
     "execution_count": 93,
     "metadata": {},
     "output_type": "execute_result"
    }
   ],
   "source": [
    " #if you don't add the deep argument, a copy of the dataframe is created and changes made to the copy will reflect in the old\n",
    "dataset_new = dataset.copy(deep=True)\n",
    "dataset_new.head()"
   ]
  },
  {
   "cell_type": "code",
   "execution_count": 94,
   "id": "dc5c73d1",
   "metadata": {},
   "outputs": [
    {
     "data": {
      "text/html": [
       "<div>\n",
       "<style scoped>\n",
       "    .dataframe tbody tr th:only-of-type {\n",
       "        vertical-align: middle;\n",
       "    }\n",
       "\n",
       "    .dataframe tbody tr th {\n",
       "        vertical-align: top;\n",
       "    }\n",
       "\n",
       "    .dataframe thead th {\n",
       "        text-align: right;\n",
       "    }\n",
       "</style>\n",
       "<table border=\"1\" class=\"dataframe\">\n",
       "  <thead>\n",
       "    <tr style=\"text-align: right;\">\n",
       "      <th></th>\n",
       "      <th>color</th>\n",
       "      <th>size</th>\n",
       "      <th>price</th>\n",
       "      <th>discount</th>\n",
       "      <th>commission</th>\n",
       "      <th>label</th>\n",
       "    </tr>\n",
       "  </thead>\n",
       "  <tbody>\n",
       "    <tr>\n",
       "      <th>0</th>\n",
       "      <td>yellow</td>\n",
       "      <td>XL</td>\n",
       "      <td>10.5</td>\n",
       "      <td>2.0</td>\n",
       "      <td>3.1</td>\n",
       "      <td>yes</td>\n",
       "    </tr>\n",
       "    <tr>\n",
       "      <th>1</th>\n",
       "      <td>brown</td>\n",
       "      <td>L</td>\n",
       "      <td>8.1</td>\n",
       "      <td>1.6</td>\n",
       "      <td>1.2</td>\n",
       "      <td>no</td>\n",
       "    </tr>\n",
       "    <tr>\n",
       "      <th>2</th>\n",
       "      <td>blue</td>\n",
       "      <td>M</td>\n",
       "      <td>5.2</td>\n",
       "      <td>0.8</td>\n",
       "      <td>1.3</td>\n",
       "      <td>no</td>\n",
       "    </tr>\n",
       "    <tr>\n",
       "      <th>3</th>\n",
       "      <td>green</td>\n",
       "      <td>S</td>\n",
       "      <td>3.5</td>\n",
       "      <td>0.4</td>\n",
       "      <td>0.8</td>\n",
       "      <td>yes</td>\n",
       "    </tr>\n",
       "    <tr>\n",
       "      <th>4</th>\n",
       "      <td>pale</td>\n",
       "      <td>M</td>\n",
       "      <td>NaN</td>\n",
       "      <td>2.0</td>\n",
       "      <td>3.1</td>\n",
       "      <td>no</td>\n",
       "    </tr>\n",
       "  </tbody>\n",
       "</table>\n",
       "</div>"
      ],
      "text/plain": [
       "    color size  price  discount  commission label\n",
       "0  yellow   XL   10.5       2.0         3.1   yes\n",
       "1   brown    L    8.1       1.6         1.2    no\n",
       "2    blue    M    5.2       0.8         1.3    no\n",
       "3   green    S    3.5       0.4         0.8   yes\n",
       "4    pale    M    NaN       2.0         3.1    no"
      ]
     },
     "execution_count": 94,
     "metadata": {},
     "output_type": "execute_result"
    }
   ],
   "source": [
    "# Now, let us transform back to the original\n",
    "dataset_new['label'] = dataset_new['label'].map(inv_label_map)\n",
    "dataset_new.head()"
   ]
  },
  {
   "cell_type": "markdown",
   "id": "7b0c40f1",
   "metadata": {},
   "source": [
    "# Second Method - LabelEncoding\n",
    "\n",
    "The label encoding is a class from scikit-learn that helps us to encode categorical data very easily. Take note that it is only used to encode the labels or targets of your dataset. If you want to encode nominal or ordinal series in your dataframe, you are better of using 'OneHotEncoder' or OrdinalEncoder. Anyways, as a Data Analyst, you're better off with the first method. This second method is typically used in machine learning models. We touch it nonetheless"
   ]
  },
  {
   "cell_type": "code",
   "execution_count": 95,
   "id": "7fc34f59",
   "metadata": {},
   "outputs": [
    {
     "data": {
      "text/html": [
       "<div>\n",
       "<style scoped>\n",
       "    .dataframe tbody tr th:only-of-type {\n",
       "        vertical-align: middle;\n",
       "    }\n",
       "\n",
       "    .dataframe tbody tr th {\n",
       "        vertical-align: top;\n",
       "    }\n",
       "\n",
       "    .dataframe thead th {\n",
       "        text-align: right;\n",
       "    }\n",
       "</style>\n",
       "<table border=\"1\" class=\"dataframe\">\n",
       "  <thead>\n",
       "    <tr style=\"text-align: right;\">\n",
       "      <th></th>\n",
       "      <th>color</th>\n",
       "      <th>size</th>\n",
       "      <th>price</th>\n",
       "      <th>discount</th>\n",
       "      <th>commission</th>\n",
       "      <th>label</th>\n",
       "    </tr>\n",
       "  </thead>\n",
       "  <tbody>\n",
       "    <tr>\n",
       "      <th>0</th>\n",
       "      <td>yellow</td>\n",
       "      <td>XL</td>\n",
       "      <td>10.5</td>\n",
       "      <td>2.0</td>\n",
       "      <td>3.1</td>\n",
       "      <td>yes</td>\n",
       "    </tr>\n",
       "    <tr>\n",
       "      <th>1</th>\n",
       "      <td>brown</td>\n",
       "      <td>L</td>\n",
       "      <td>8.1</td>\n",
       "      <td>1.6</td>\n",
       "      <td>1.2</td>\n",
       "      <td>no</td>\n",
       "    </tr>\n",
       "    <tr>\n",
       "      <th>2</th>\n",
       "      <td>blue</td>\n",
       "      <td>M</td>\n",
       "      <td>5.2</td>\n",
       "      <td>0.8</td>\n",
       "      <td>1.3</td>\n",
       "      <td>no</td>\n",
       "    </tr>\n",
       "    <tr>\n",
       "      <th>3</th>\n",
       "      <td>green</td>\n",
       "      <td>S</td>\n",
       "      <td>3.5</td>\n",
       "      <td>0.4</td>\n",
       "      <td>0.8</td>\n",
       "      <td>yes</td>\n",
       "    </tr>\n",
       "    <tr>\n",
       "      <th>4</th>\n",
       "      <td>pale</td>\n",
       "      <td>M</td>\n",
       "      <td>NaN</td>\n",
       "      <td>2.0</td>\n",
       "      <td>3.1</td>\n",
       "      <td>no</td>\n",
       "    </tr>\n",
       "  </tbody>\n",
       "</table>\n",
       "</div>"
      ],
      "text/plain": [
       "    color size  price  discount  commission label\n",
       "0  yellow   XL   10.5       2.0         3.1   yes\n",
       "1   brown    L    8.1       1.6         1.2    no\n",
       "2    blue    M    5.2       0.8         1.3    no\n",
       "3   green    S    3.5       0.4         0.8   yes\n",
       "4    pale    M    NaN       2.0         3.1    no"
      ]
     },
     "execution_count": 95,
     "metadata": {},
     "output_type": "execute_result"
    }
   ],
   "source": [
    "# Check the dataset\n",
    "dataset2.head()"
   ]
  },
  {
   "cell_type": "code",
   "execution_count": 96,
   "id": "23700d76",
   "metadata": {},
   "outputs": [
    {
     "data": {
      "text/plain": [
       "yes    10\n",
       "no     10\n",
       "Name: label, dtype: int64"
      ]
     },
     "execution_count": 96,
     "metadata": {},
     "output_type": "execute_result"
    }
   ],
   "source": [
    "dataset2['label'].value_counts()"
   ]
  },
  {
   "cell_type": "code",
   "execution_count": 97,
   "id": "5e190df7",
   "metadata": {},
   "outputs": [
    {
     "data": {
      "text/html": [
       "<div>\n",
       "<style scoped>\n",
       "    .dataframe tbody tr th:only-of-type {\n",
       "        vertical-align: middle;\n",
       "    }\n",
       "\n",
       "    .dataframe tbody tr th {\n",
       "        vertical-align: top;\n",
       "    }\n",
       "\n",
       "    .dataframe thead th {\n",
       "        text-align: right;\n",
       "    }\n",
       "</style>\n",
       "<table border=\"1\" class=\"dataframe\">\n",
       "  <thead>\n",
       "    <tr style=\"text-align: right;\">\n",
       "      <th></th>\n",
       "      <th>color</th>\n",
       "      <th>size</th>\n",
       "      <th>price</th>\n",
       "      <th>discount</th>\n",
       "      <th>commission</th>\n",
       "      <th>label</th>\n",
       "    </tr>\n",
       "  </thead>\n",
       "  <tbody>\n",
       "    <tr>\n",
       "      <th>0</th>\n",
       "      <td>yellow</td>\n",
       "      <td>XL</td>\n",
       "      <td>10.5</td>\n",
       "      <td>2.0</td>\n",
       "      <td>3.1</td>\n",
       "      <td>1</td>\n",
       "    </tr>\n",
       "    <tr>\n",
       "      <th>1</th>\n",
       "      <td>brown</td>\n",
       "      <td>L</td>\n",
       "      <td>8.1</td>\n",
       "      <td>1.6</td>\n",
       "      <td>1.2</td>\n",
       "      <td>0</td>\n",
       "    </tr>\n",
       "    <tr>\n",
       "      <th>2</th>\n",
       "      <td>blue</td>\n",
       "      <td>M</td>\n",
       "      <td>5.2</td>\n",
       "      <td>0.8</td>\n",
       "      <td>1.3</td>\n",
       "      <td>0</td>\n",
       "    </tr>\n",
       "    <tr>\n",
       "      <th>3</th>\n",
       "      <td>green</td>\n",
       "      <td>S</td>\n",
       "      <td>3.5</td>\n",
       "      <td>0.4</td>\n",
       "      <td>0.8</td>\n",
       "      <td>1</td>\n",
       "    </tr>\n",
       "    <tr>\n",
       "      <th>4</th>\n",
       "      <td>pale</td>\n",
       "      <td>M</td>\n",
       "      <td>NaN</td>\n",
       "      <td>2.0</td>\n",
       "      <td>3.1</td>\n",
       "      <td>0</td>\n",
       "    </tr>\n",
       "  </tbody>\n",
       "</table>\n",
       "</div>"
      ],
      "text/plain": [
       "    color size  price  discount  commission  label\n",
       "0  yellow   XL   10.5       2.0         3.1      1\n",
       "1   brown    L    8.1       1.6         1.2      0\n",
       "2    blue    M    5.2       0.8         1.3      0\n",
       "3   green    S    3.5       0.4         0.8      1\n",
       "4    pale    M    NaN       2.0         3.1      0"
      ]
     },
     "execution_count": 97,
     "metadata": {},
     "output_type": "execute_result"
    }
   ],
   "source": [
    "# Import label encoder class from scikit-learn\n",
    "from sklearn.preprocessing import LabelEncoder\n",
    "\n",
    "# Create an object of LabelEncoder\n",
    "le = LabelEncoder()\n",
    "\n",
    "# Use the object to transform the column by calling the fit_transform method\n",
    "dataset2['label'] = le.fit_transform(dataset2['label'])\n",
    "dataset2.head()"
   ]
  },
  {
   "cell_type": "code",
   "execution_count": 98,
   "id": "78197842",
   "metadata": {},
   "outputs": [
    {
     "data": {
      "text/plain": [
       "1    10\n",
       "0    10\n",
       "Name: label, dtype: int64"
      ]
     },
     "execution_count": 98,
     "metadata": {},
     "output_type": "execute_result"
    }
   ],
   "source": [
    "dataset2['label'].value_counts()"
   ]
  },
  {
   "cell_type": "markdown",
   "id": "2cb734ce",
   "metadata": {},
   "source": [
    "!BAM, this works fine also"
   ]
  },
  {
   "cell_type": "markdown",
   "id": "7572ed94",
   "metadata": {},
   "source": [
    "Note: The labelEncoder class implicitly 'determined' now to encode the data for you, you had no say as to how it does it, you simply use it like that. To know what encoding took place, simply call the class_ function on labelEnocer object le"
   ]
  },
  {
   "cell_type": "code",
   "execution_count": 99,
   "id": "26cae57e",
   "metadata": {},
   "outputs": [
    {
     "data": {
      "text/plain": [
       "array(['no', 'yes'], dtype=object)"
      ]
     },
     "execution_count": 99,
     "metadata": {},
     "output_type": "execute_result"
    }
   ],
   "source": [
    "le.classes_"
   ]
  },
  {
   "cell_type": "markdown",
   "id": "f996639f",
   "metadata": {},
   "source": [
    "## Inverse Transformation with LabelEncoders\n",
    "To carry out inverse transformations with labelEncoders, we simply call the inverse_transform method"
   ]
  },
  {
   "cell_type": "code",
   "execution_count": 100,
   "id": "2f852405",
   "metadata": {},
   "outputs": [
    {
     "data": {
      "text/html": [
       "<div>\n",
       "<style scoped>\n",
       "    .dataframe tbody tr th:only-of-type {\n",
       "        vertical-align: middle;\n",
       "    }\n",
       "\n",
       "    .dataframe tbody tr th {\n",
       "        vertical-align: top;\n",
       "    }\n",
       "\n",
       "    .dataframe thead th {\n",
       "        text-align: right;\n",
       "    }\n",
       "</style>\n",
       "<table border=\"1\" class=\"dataframe\">\n",
       "  <thead>\n",
       "    <tr style=\"text-align: right;\">\n",
       "      <th></th>\n",
       "      <th>color</th>\n",
       "      <th>size</th>\n",
       "      <th>price</th>\n",
       "      <th>discount</th>\n",
       "      <th>commission</th>\n",
       "      <th>label</th>\n",
       "    </tr>\n",
       "  </thead>\n",
       "  <tbody>\n",
       "    <tr>\n",
       "      <th>0</th>\n",
       "      <td>yellow</td>\n",
       "      <td>XL</td>\n",
       "      <td>10.5</td>\n",
       "      <td>2.0</td>\n",
       "      <td>3.1</td>\n",
       "      <td>yes</td>\n",
       "    </tr>\n",
       "    <tr>\n",
       "      <th>1</th>\n",
       "      <td>brown</td>\n",
       "      <td>L</td>\n",
       "      <td>8.1</td>\n",
       "      <td>1.6</td>\n",
       "      <td>1.2</td>\n",
       "      <td>no</td>\n",
       "    </tr>\n",
       "    <tr>\n",
       "      <th>2</th>\n",
       "      <td>blue</td>\n",
       "      <td>M</td>\n",
       "      <td>5.2</td>\n",
       "      <td>0.8</td>\n",
       "      <td>1.3</td>\n",
       "      <td>no</td>\n",
       "    </tr>\n",
       "    <tr>\n",
       "      <th>3</th>\n",
       "      <td>green</td>\n",
       "      <td>S</td>\n",
       "      <td>3.5</td>\n",
       "      <td>0.4</td>\n",
       "      <td>0.8</td>\n",
       "      <td>yes</td>\n",
       "    </tr>\n",
       "    <tr>\n",
       "      <th>4</th>\n",
       "      <td>pale</td>\n",
       "      <td>M</td>\n",
       "      <td>NaN</td>\n",
       "      <td>2.0</td>\n",
       "      <td>3.1</td>\n",
       "      <td>no</td>\n",
       "    </tr>\n",
       "  </tbody>\n",
       "</table>\n",
       "</div>"
      ],
      "text/plain": [
       "    color size  price  discount  commission label\n",
       "0  yellow   XL   10.5       2.0         3.1   yes\n",
       "1   brown    L    8.1       1.6         1.2    no\n",
       "2    blue    M    5.2       0.8         1.3    no\n",
       "3   green    S    3.5       0.4         0.8   yes\n",
       "4    pale    M    NaN       2.0         3.1    no"
      ]
     },
     "execution_count": 100,
     "metadata": {},
     "output_type": "execute_result"
    }
   ],
   "source": [
    "dataset2['label'] = le.inverse_transform(dataset2['label'])\n",
    "dataset2.head()"
   ]
  },
  {
   "cell_type": "markdown",
   "id": "497a94dd",
   "metadata": {},
   "source": [
    "# THE END"
   ]
  }
 ],
 "metadata": {
  "kernelspec": {
   "display_name": "Python 3 (ipykernel)",
   "language": "python",
   "name": "python3"
  },
  "language_info": {
   "codemirror_mode": {
    "name": "ipython",
    "version": 3
   },
   "file_extension": ".py",
   "mimetype": "text/x-python",
   "name": "python",
   "nbconvert_exporter": "python",
   "pygments_lexer": "ipython3",
   "version": "3.9.7"
  }
 },
 "nbformat": 4,
 "nbformat_minor": 5
}
